{
 "cells": [
  {
   "cell_type": "markdown",
   "metadata": {},
   "source": [
    "#Import Data\n",
    "from Bio import SeqIO\n",
    "covid= \"\"\n",
    "for seq_record in SeqIO.parse(\"coronavirus.fasta\", \"fasta\"):\n",
    "    print(seq_record.seq)\n",
    "    covid=covid+seq_record.seq"
   ]
  },
  {
   "cell_type": "code",
   "execution_count": 11,
   "metadata": {},
   "outputs": [],
   "source": [
    "k=300\n",
    "chunks=[covid[i:i+k] for i in range(0, len(covid), k)]"
   ]
  },
  {
   "cell_type": "code",
   "execution_count": 109,
   "metadata": {},
   "outputs": [
    {
     "data": {
      "text/plain": [
       "'ATTAAAGGTTTATACCTTCCCAGGTAACAAACCAACCAACTTTCGATCTCTTGTAGATCTGTTCTCTAAACGAACTTTAAAATCTGTGTGGCTGTCACTCGGCTGCATGCTTAGTGCACTCACGCAGTATAATTAATAACTAATTACTGTCGTTGACAGGACACGAGTAACTCGTCTATCTTCTGCAGGCTGCTTACGGTTTCGTCCGTGTTGCAGCCGATCATCAGCACATCTAGGTTTCGTCCGGGTGTGACCGAAAGGTAAGATGGAGAGCCTTGTCCCTGGTTTCAACGAGAAAAC'"
      ]
     },
     "execution_count": 109,
     "metadata": {},
     "output_type": "execute_result"
    }
   ],
   "source": [
    "str(chunks[0])"
   ]
  },
  {
   "cell_type": "code",
   "execution_count": 12,
   "metadata": {},
   "outputs": [],
   "source": [
    "#globalAlighnment\n",
    "'''\n",
    "for the calculation is used bio python\n",
    "gap_open_penalty and gap_extend_penalty neeed to have negative value\n",
    "'''\n",
    "def global_alighn_score(seq1,seq2,gap_open_penalty,gap_extend_penalty):\n",
    "    from Bio.SubsMat import MatrixInfo as matlist\n",
    "    from Bio import pairwise2\n",
    "    matrix = matlist.blosum62\n",
    "    a = pairwise2.align.globalds(seq1,seq2,matrix,gap_open_penalty,gap_extend_penalty)\n",
    "    (s1,s2,score,start,end) = a[0]\n",
    "    gaps=s1.count(\"-\")+s2.count(\"-\")\n",
    "    return score,gaps;"
   ]
  },
  {
   "cell_type": "code",
   "execution_count": 13,
   "metadata": {},
   "outputs": [
    {
     "data": {
      "text/plain": [
       "100"
      ]
     },
     "execution_count": 13,
     "metadata": {},
     "output_type": "execute_result"
    }
   ],
   "source": [
    "len(chunks)"
   ]
  },
  {
   "cell_type": "code",
   "execution_count": 99,
   "metadata": {},
   "outputs": [],
   "source": [
    "def generate_new_bases(cur_bases):\n",
    "    import random\n",
    "    bases= [\"G\",\"A\",\"C\",\"T\"]\n",
    "    new_letter= random.choice(bases)\n",
    "    if cur_bases != new_letter :\n",
    "        return new_letter\n",
    "    else:\n",
    "        generate_new_bases(cur_bases)"
   ]
  },
  {
   "cell_type": "code",
   "execution_count": 101,
   "metadata": {},
   "outputs": [],
   "source": [
    "class ChunkPair:\n",
    "    def __init__(self,chunk1,chunk2,global_score):\n",
    "        self.chunk1=chunk1\n",
    "        self.chunk2=chunk2\n",
    "        self.global_score=global_score\n",
    "        \n",
    "    def as_dict(self):\n",
    "        return {'chunk1':self.chunk1,'chunk2':self.chunk2,'global_score_blast':global_score}"
   ]
  },
  {
   "cell_type": "code",
   "execution_count": 102,
   "metadata": {},
   "outputs": [
    {
     "name": "stdout",
     "output_type": "stream",
     "text": [
      "57\n"
     ]
    }
   ],
   "source": [
    "print(int(57%100))"
   ]
  },
  {
   "cell_type": "code",
   "execution_count": 103,
   "metadata": {},
   "outputs": [],
   "source": [
    "def generate_new_string(string_temp,change_factor):\n",
    "    #string_temp = chunks[chunkPos]\n",
    "    changePositions=[]\n",
    "    for i in range(change_factor):\n",
    "        position = random.randint(0, 299)\n",
    "        while position in changePositions or len(string_temp) <= position:\n",
    "            position = random.randint(0, 299)\n",
    "        changePositions.append(position)\n",
    "        character=\"\"\n",
    "        while character == None or character==\"\":\n",
    "            character=generate_new_bases(string_temp[position])\n",
    "        if len(string_temp)<=position:\n",
    "            string_temp  = string_temp[:position-1] + character\n",
    "        else:\n",
    "            string_temp  = string_temp[:position-1] + character + string_temp[position+1:]\n",
    "    return string_temp;"
   ]
  },
  {
   "cell_type": "code",
   "execution_count": 118,
   "metadata": {},
   "outputs": [],
   "source": [
    "def strategy(groupFactor,changefaktorMax,counter,chunks,db):\n",
    "    if groupFactor==0:\n",
    "        a=str(chunks[counter])\n",
    "        db.append(ChunkPair(a,a,global_alighn_score(a,a,-10,-1)))\n",
    "    else:\n",
    "        chunkPos=counter%99   \n",
    "        change_factor= random.randint(((groupFactor-1)*changefaktorMax), (groupFactor*changefaktorMax))\n",
    "        a=str(chunks[chunkPos])\n",
    "        b=generate_new_string(str(chunks[chunkPos]),change_factor)\n",
    "        db.append(ChunkPair(a,b,global_alighn_score(a,b,-10,-1)))"
   ]
  },
  {
   "cell_type": "code",
   "execution_count": null,
   "metadata": {},
   "outputs": [],
   "source": [
    "import random  \n",
    "chunks=chunks[:99]\n",
    "counter=0;\n",
    "changefaktorMax=20;\n",
    "numExamples=40;\n",
    "neededPairs=600\n",
    "db=[];\n",
    "for counter in range(neededPairs):\n",
    "    if counter<41 :\n",
    "        strategy(0,changefaktorMax,counter,chunks,db)\n",
    "    elif counter>40 and counter<80:\n",
    "        strategy(1,changefaktorMax,counter,chunks,db)\n",
    "    elif counter>80 and counter<=120: \n",
    "        strategy(2,changefaktorMax,counter,chunks,db)\n",
    "    elif counter>120 and counter<=160:\n",
    "        strategy(3,changefaktorMax,counter,chunks,db)\n",
    "    elif counter>160 and counter<=200:\n",
    "        strategy(4,changefaktorMax,counter,chunks,db)\n",
    "    elif counter>200 and counter<=240:\n",
    "        strategy(5,changefaktorMax,counter,chunks,db)\n",
    "    elif counter>240 and counter<=280:\n",
    "        strategy(6,changefaktorMax,counter,chunks,db)                 \n",
    "    elif counter>280 and counter<=320:\n",
    "        strategy(7,changefaktorMax,counter,chunks,db)\n",
    "    elif counter>320 and counter<=360:\n",
    "        strategy(8,changefaktorMax,counter,chunks,db)\n",
    "    elif counter>360 and counter<=400:\n",
    "        strategy(9,changefaktorMax,counter,chunks,db)\n",
    "    elif counter>400 and counter<=440:\n",
    "        strategy(10,changefaktorMax,counter,chunks,db)\n",
    "    elif counter>440 and counter<=480:\n",
    "        strategy(11,changefaktorMax,counter,chunks,db)\n",
    "    elif counter>480 and counter<=520:\n",
    "        strategy(12,changefaktorMax,counter,chunks,db)\n",
    "    elif counter>520 and counter<=560:\n",
    "        strategy(13,changefaktorMax,counter,chunks,db)\n",
    "    elif counter>560 and counter<=600:\n",
    "        strategy(14,changefaktorMax,counter,chunks,db)\n",
    "    counter=counter+1"
   ]
  },
  {
   "cell_type": "code",
   "execution_count": null,
   "metadata": {},
   "outputs": [],
   "source": []
  }
 ],
 "metadata": {
  "kernelspec": {
   "display_name": "Python 3",
   "language": "python",
   "name": "python3"
  },
  "language_info": {
   "codemirror_mode": {
    "name": "ipython",
    "version": 3
   },
   "file_extension": ".py",
   "mimetype": "text/x-python",
   "name": "python",
   "nbconvert_exporter": "python",
   "pygments_lexer": "ipython3",
   "version": "3.7.7"
  }
 },
 "nbformat": 4,
 "nbformat_minor": 4
}
